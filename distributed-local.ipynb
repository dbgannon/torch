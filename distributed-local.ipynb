{
 "cells": [
  {
   "cell_type": "markdown",
   "metadata": {},
   "source": [
    "## Distributed Computing using multiple threads with Torch\n",
    "This example demonstrates the basic multithreaded computation.\n",
    "\n",
    "Note:  this does not work on windows 10, but it is fine on a Ubuntu multicore processor without GPUs.\n",
    "\n",
    "it will fail if there is a cuda device  on the server."
   ]
  },
  {
   "cell_type": "code",
   "execution_count": 1,
   "metadata": {},
   "outputs": [],
   "source": [
    "import os\n",
    "import torch\n",
    "import torch.distributed as dist\n",
    "from torch.multiprocessing import Process"
   ]
  },
  {
   "cell_type": "code",
   "execution_count": 2,
   "metadata": {},
   "outputs": [],
   "source": [
    "#set number of threads\n",
    "P = 3"
   ]
  },
  {
   "cell_type": "code",
   "execution_count": 3,
   "metadata": {},
   "outputs": [],
   "source": [
    "def run(rank, size):\n",
    "    \"\"\" Distributed function to be implemented later. \"\"\"\n",
    "    pass"
   ]
  },
  {
   "cell_type": "code",
   "execution_count": 4,
   "metadata": {},
   "outputs": [],
   "source": [
    "def init_process(rank, size, fn, backend='gloo'):\n",
    "    \"\"\" Initialize the distributed environment. \"\"\"\n",
    "    os.environ['MASTER_ADDR'] = '127.0.0.1'\n",
    "    os.environ['MASTER_PORT'] = '29500'\n",
    "    dist.init_process_group(backend, rank=rank, world_size=size)\n",
    "    fn(rank, size)"
   ]
  },
  {
   "cell_type": "code",
   "execution_count": 6,
   "metadata": {},
   "outputs": [],
   "source": [
    "def run_message_passing(rank, size):\n",
    "    tensor = torch.zeros(1)\n",
    "    if rank == 0:\n",
    "        tensor += 1\n",
    "        # Send the tensor to process 1\n",
    "        dist.send(tensor=tensor, dst=1)\n",
    "    elif rank ==1:\n",
    "        # Receive tensor from process 0\n",
    "        dist.recv(tensor=tensor, src=0)\n",
    "        tensor += 1\n",
    "        dist.send(tensor=tensor, dst=2)\n",
    "    else:\n",
    "        dist.recv(tensor=tensor, src=1)\n",
    "        tensor += 1\n",
    "        if tensor == 3:\n",
    "            print('done')\n",
    "\n",
    "    print('Rank ', rank, ' has data ', tensor[0])"
   ]
  },
  {
   "cell_type": "code",
   "execution_count": 16,
   "metadata": {},
   "outputs": [],
   "source": [
    "def run_reduce(rank, size):\n",
    "    \"\"\" Simple point-to-point communication. \"\"\"\n",
    "    group = dist.new_group([0, 1, 2])\n",
    "    tensor = torch.ones(1)\n",
    "    tensor +=rank\n",
    "    dist.all_reduce(tensor, op=dist.ReduceOp.SUM, group=group)\n",
    "    print('Rank ', rank, ' has data ', tensor[0])"
   ]
  },
  {
   "cell_type": "code",
   "execution_count": 11,
   "metadata": {},
   "outputs": [],
   "source": [
    "def run_gather(rank, size):\n",
    "    \"\"\" Simple point-to-point communication. \"\"\"\n",
    "    grouplist = [i for i in range(P)]\n",
    "    group = dist.new_group(grouplist)\n",
    "    tensor = torch.ones(1)\n",
    "    tensor +=rank\n",
    "    lst = [torch.ones(1),torch.ones(1),torch.ones(1)]\n",
    "    dist.all_gather(lst, tensor, group=group)\n",
    "    print('Rank ', rank, ' has data ', lst)"
   ]
  },
  {
   "cell_type": "code",
   "execution_count": 13,
   "metadata": {},
   "outputs": [
    {
     "name": "stdout",
     "output_type": "stream",
     "text": [
      "done\n",
      "Rank  1  has data  tensor(2.)\n",
      "Rank  2  has data  tensor(3.)\n",
      "Rank  0  has data  tensor(1.)\n"
     ]
    }
   ],
   "source": [
    "size = P\n",
    "processes = []\n",
    "for rank in range(size):\n",
    "    p = Process(target=init_process, args=(rank, size, run_message_passing))\n",
    "    p.start()\n",
    "    processes.append(p)\n",
    "\n",
    "for p in processes:\n",
    "    p.join()\n"
   ]
  },
  {
   "cell_type": "code",
   "execution_count": 17,
   "metadata": {},
   "outputs": [
    {
     "name": "stdout",
     "output_type": "stream",
     "text": [
      "Rank  0  has data  tensor(6.)\n",
      "Rank  2  has data  tensor(6.)\n",
      "Rank  1  has data  tensor(6.)\n"
     ]
    }
   ],
   "source": [
    "size = P\n",
    "processes = []\n",
    "for rank in range(size):\n",
    "    p = Process(target=init_process, args=(rank, size, run_reduce))\n",
    "    p.start()\n",
    "    processes.append(p)\n",
    "\n",
    "for p in processes:\n",
    "    p.join()\n"
   ]
  },
  {
   "cell_type": "code",
   "execution_count": 18,
   "metadata": {},
   "outputs": [
    {
     "name": "stdout",
     "output_type": "stream",
     "text": [
      "Rank  1  has data  [tensor([1.]), tensor([2.]), tensor([3.])]\n",
      "Rank  2  has data  [tensor([1.]), tensor([2.]), tensor([3.])]\n",
      "Rank  0  has data  [tensor([1.]), tensor([2.]), tensor([3.])]\n"
     ]
    }
   ],
   "source": [
    "size = P\n",
    "processes = []\n",
    "for rank in range(size):\n",
    "    p = Process(target=init_process, args=(rank, size, run_gather))\n",
    "    p.start()\n",
    "    processes.append(p)\n",
    "\n",
    "for p in processes:\n",
    "    p.join()\n"
   ]
  },
  {
   "cell_type": "code",
   "execution_count": null,
   "metadata": {},
   "outputs": [],
   "source": []
  }
 ],
 "metadata": {
  "kernelspec": {
   "display_name": "Python 3",
   "language": "python",
   "name": "python3"
  },
  "language_info": {
   "codemirror_mode": {
    "name": "ipython",
    "version": 3
   },
   "file_extension": ".py",
   "mimetype": "text/x-python",
   "name": "python",
   "nbconvert_exporter": "python",
   "pygments_lexer": "ipython3",
   "version": "3.6.9"
  }
 },
 "nbformat": 4,
 "nbformat_minor": 2
}
